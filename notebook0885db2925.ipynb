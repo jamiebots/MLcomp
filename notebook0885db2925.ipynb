{
 "cells": [
  {
   "cell_type": "code",
   "execution_count": 1,
   "id": "7a654169",
   "metadata": {
    "_cell_guid": "b1076dfc-b9ad-4769-8c92-a6c4dae69d19",
    "_uuid": "8f2839f25d086af736a60e9eeb907d3b93b6e0e5",
    "execution": {
     "iopub.execute_input": "2023-04-20T23:52:09.176305Z",
     "iopub.status.busy": "2023-04-20T23:52:09.175111Z",
     "iopub.status.idle": "2023-04-20T23:52:12.928585Z",
     "shell.execute_reply": "2023-04-20T23:52:12.927213Z"
    },
    "papermill": {
     "duration": 3.765134,
     "end_time": "2023-04-20T23:52:12.931545",
     "exception": false,
     "start_time": "2023-04-20T23:52:09.166411",
     "status": "completed"
    },
    "tags": []
   },
   "outputs": [],
   "source": [
    "# Data Analysis & Visualization\n",
    "import os\n",
    "import numpy as np \n",
    "import pandas as pd\n",
    "import seaborn as sns\n",
    "import matplotlib.pyplot as plt\n",
    "\n",
    "import pandas as pd\n",
    "import numpy as np\n",
    "import torch\n",
    "import torch.nn as nn\n",
    "import glob\n",
    "import gc\n",
    "from pathlib import Path\n",
    "from sklearn.preprocessing import StandardScaler\n",
    "from sklearn.model_selection import train_test_split\n",
    "from sklearn.metrics import accuracy_score"
   ]
  },
  {
   "cell_type": "code",
   "execution_count": 2,
   "id": "f7aefdfc",
   "metadata": {
    "execution": {
     "iopub.execute_input": "2023-04-20T23:52:12.945051Z",
     "iopub.status.busy": "2023-04-20T23:52:12.943769Z",
     "iopub.status.idle": "2023-04-20T23:52:12.948705Z",
     "shell.execute_reply": "2023-04-20T23:52:12.947943Z"
    },
    "papermill": {
     "duration": 0.013419,
     "end_time": "2023-04-20T23:52:12.950716",
     "exception": false,
     "start_time": "2023-04-20T23:52:12.937297",
     "status": "completed"
    },
    "tags": []
   },
   "outputs": [],
   "source": [
    "FEATURES = [\"AccV\", \"AccML\", \"AccAP\"]\n",
    "TARGETS = [\"StartHesitation\", \"Turn\", \"Walking\"]"
   ]
  },
  {
   "cell_type": "code",
   "execution_count": 3,
   "id": "ef4ff138",
   "metadata": {
    "execution": {
     "iopub.execute_input": "2023-04-20T23:52:12.963363Z",
     "iopub.status.busy": "2023-04-20T23:52:12.962405Z",
     "iopub.status.idle": "2023-04-20T23:52:12.966571Z",
     "shell.execute_reply": "2023-04-20T23:52:12.965791Z"
    },
    "papermill": {
     "duration": 0.012502,
     "end_time": "2023-04-20T23:52:12.968585",
     "exception": false,
     "start_time": "2023-04-20T23:52:12.956083",
     "status": "completed"
    },
    "tags": []
   },
   "outputs": [],
   "source": [
    "# Read in the train and test data\n",
    "# train_df = pd.read_csv(\"/kaggle/input/tlvmc-parkinsons-freezing-gait-prediction/train/defog/0c55be4384.csv\")\n",
    "# test_df = pd.read_csv(\"/kaggle/input/tlvmc-parkinsons-freezing-gait-prediction/test/defog/02ab235146.csv\")\n",
    "# train_df.head()"
   ]
  },
  {
   "cell_type": "code",
   "execution_count": 4,
   "id": "6cd23e49",
   "metadata": {
    "execution": {
     "iopub.execute_input": "2023-04-20T23:52:12.980988Z",
     "iopub.status.busy": "2023-04-20T23:52:12.980417Z",
     "iopub.status.idle": "2023-04-20T23:52:12.985702Z",
     "shell.execute_reply": "2023-04-20T23:52:12.984376Z"
    },
    "papermill": {
     "duration": 0.014079,
     "end_time": "2023-04-20T23:52:12.988000",
     "exception": false,
     "start_time": "2023-04-20T23:52:12.973921",
     "status": "completed"
    },
    "tags": []
   },
   "outputs": [],
   "source": [
    "#test_df.head()"
   ]
  },
  {
   "cell_type": "code",
   "execution_count": 5,
   "id": "86c516af",
   "metadata": {
    "execution": {
     "iopub.execute_input": "2023-04-20T23:52:13.000942Z",
     "iopub.status.busy": "2023-04-20T23:52:12.999903Z",
     "iopub.status.idle": "2023-04-20T23:52:13.098345Z",
     "shell.execute_reply": "2023-04-20T23:52:13.097279Z"
    },
    "papermill": {
     "duration": 0.107697,
     "end_time": "2023-04-20T23:52:13.101009",
     "exception": false,
     "start_time": "2023-04-20T23:52:12.993312",
     "status": "completed"
    },
    "tags": []
   },
   "outputs": [],
   "source": [
    "#path=\"../input/tlvmc-parkinsons-freezing-gait-prediction/\"\n",
    "# path=\"/kaggle/input/tlvmc-parkinsons-freezing-gait-prediction/\"\n",
    "\n",
    "# train_defog = glob.glob(path+'train/**/**')\n",
    "# train_tdcsfog = glob.glob(path+'test/**/**')\n",
    "\n",
    "path=\"../input/tlvmc-parkinsons-freezing-gait-prediction/\"\n",
    "\n",
    "train_defog = glob.glob(path+'train/**/**')\n",
    "train_tdcsfog = glob.glob(path+'test/**/**')\n",
    "\n"
   ]
  },
  {
   "cell_type": "code",
   "execution_count": 6,
   "id": "c37c0b2c",
   "metadata": {
    "execution": {
     "iopub.execute_input": "2023-04-20T23:52:13.113413Z",
     "iopub.status.busy": "2023-04-20T23:52:13.113017Z",
     "iopub.status.idle": "2023-04-20T23:53:50.389871Z",
     "shell.execute_reply": "2023-04-20T23:53:50.387374Z"
    },
    "papermill": {
     "duration": 97.299418,
     "end_time": "2023-04-20T23:53:50.405753",
     "exception": false,
     "start_time": "2023-04-20T23:52:13.106335",
     "status": "completed"
    },
    "tags": []
   },
   "outputs": [
    {
     "name": "stdout",
     "output_type": "stream",
     "text": [
      "(30839488, 11)\n"
     ]
    }
   ],
   "source": [
    "# func read data \n",
    "def reader(f):\n",
    "    df = pd.read_csv(f)\n",
    "    df['Id'] = f.split('/')[-1].split('.')[0]\n",
    "    return df\n",
    "# read train data\n",
    "train_defog = pd.concat([reader(f) for f in train_defog]).fillna(0); print(train_defog.shape)\n",
    "cols = [c for c in train_defog.columns if c not in ['Id', 'StartHesitation', 'Turn' , 'Walking', 'Valid', 'Task','Event']] # except categorical and target fetaure"
   ]
  },
  {
   "cell_type": "code",
   "execution_count": 7,
   "id": "31f8f4f2",
   "metadata": {
    "execution": {
     "iopub.execute_input": "2023-04-20T23:53:50.421210Z",
     "iopub.status.busy": "2023-04-20T23:53:50.420697Z",
     "iopub.status.idle": "2023-04-20T23:53:50.461576Z",
     "shell.execute_reply": "2023-04-20T23:53:50.460176Z"
    },
    "papermill": {
     "duration": 0.053265,
     "end_time": "2023-04-20T23:53:50.464845",
     "exception": false,
     "start_time": "2023-04-20T23:53:50.411580",
     "status": "completed"
    },
    "tags": []
   },
   "outputs": [
    {
     "data": {
      "text/html": [
       "<div>\n",
       "<style scoped>\n",
       "    .dataframe tbody tr th:only-of-type {\n",
       "        vertical-align: middle;\n",
       "    }\n",
       "\n",
       "    .dataframe tbody tr th {\n",
       "        vertical-align: top;\n",
       "    }\n",
       "\n",
       "    .dataframe thead th {\n",
       "        text-align: right;\n",
       "    }\n",
       "</style>\n",
       "<table border=\"1\" class=\"dataframe\">\n",
       "  <thead>\n",
       "    <tr style=\"text-align: right;\">\n",
       "      <th></th>\n",
       "      <th>Time</th>\n",
       "      <th>AccV</th>\n",
       "      <th>AccML</th>\n",
       "      <th>AccAP</th>\n",
       "      <th>StartHesitation</th>\n",
       "      <th>Turn</th>\n",
       "      <th>Walking</th>\n",
       "      <th>Valid</th>\n",
       "      <th>Task</th>\n",
       "      <th>Id</th>\n",
       "      <th>Event</th>\n",
       "    </tr>\n",
       "  </thead>\n",
       "  <tbody>\n",
       "    <tr>\n",
       "      <th>0</th>\n",
       "      <td>0</td>\n",
       "      <td>-1.002697</td>\n",
       "      <td>0.022371</td>\n",
       "      <td>0.068304</td>\n",
       "      <td>0.0</td>\n",
       "      <td>0.0</td>\n",
       "      <td>0.0</td>\n",
       "      <td>False</td>\n",
       "      <td>False</td>\n",
       "      <td>be9d33541d</td>\n",
       "      <td>0.0</td>\n",
       "    </tr>\n",
       "    <tr>\n",
       "      <th>1</th>\n",
       "      <td>1</td>\n",
       "      <td>-1.002641</td>\n",
       "      <td>0.019173</td>\n",
       "      <td>0.066162</td>\n",
       "      <td>0.0</td>\n",
       "      <td>0.0</td>\n",
       "      <td>0.0</td>\n",
       "      <td>False</td>\n",
       "      <td>False</td>\n",
       "      <td>be9d33541d</td>\n",
       "      <td>0.0</td>\n",
       "    </tr>\n",
       "    <tr>\n",
       "      <th>2</th>\n",
       "      <td>2</td>\n",
       "      <td>-0.999820</td>\n",
       "      <td>0.019142</td>\n",
       "      <td>0.067536</td>\n",
       "      <td>0.0</td>\n",
       "      <td>0.0</td>\n",
       "      <td>0.0</td>\n",
       "      <td>False</td>\n",
       "      <td>False</td>\n",
       "      <td>be9d33541d</td>\n",
       "      <td>0.0</td>\n",
       "    </tr>\n",
       "    <tr>\n",
       "      <th>3</th>\n",
       "      <td>3</td>\n",
       "      <td>-0.998023</td>\n",
       "      <td>0.018378</td>\n",
       "      <td>0.068409</td>\n",
       "      <td>0.0</td>\n",
       "      <td>0.0</td>\n",
       "      <td>0.0</td>\n",
       "      <td>False</td>\n",
       "      <td>False</td>\n",
       "      <td>be9d33541d</td>\n",
       "      <td>0.0</td>\n",
       "    </tr>\n",
       "    <tr>\n",
       "      <th>4</th>\n",
       "      <td>4</td>\n",
       "      <td>-0.998359</td>\n",
       "      <td>0.016726</td>\n",
       "      <td>0.066448</td>\n",
       "      <td>0.0</td>\n",
       "      <td>0.0</td>\n",
       "      <td>0.0</td>\n",
       "      <td>False</td>\n",
       "      <td>False</td>\n",
       "      <td>be9d33541d</td>\n",
       "      <td>0.0</td>\n",
       "    </tr>\n",
       "  </tbody>\n",
       "</table>\n",
       "</div>"
      ],
      "text/plain": [
       "   Time      AccV     AccML     AccAP  StartHesitation  Turn  Walking  Valid  \\\n",
       "0     0 -1.002697  0.022371  0.068304              0.0   0.0      0.0  False   \n",
       "1     1 -1.002641  0.019173  0.066162              0.0   0.0      0.0  False   \n",
       "2     2 -0.999820  0.019142  0.067536              0.0   0.0      0.0  False   \n",
       "3     3 -0.998023  0.018378  0.068409              0.0   0.0      0.0  False   \n",
       "4     4 -0.998359  0.016726  0.066448              0.0   0.0      0.0  False   \n",
       "\n",
       "    Task          Id  Event  \n",
       "0  False  be9d33541d    0.0  \n",
       "1  False  be9d33541d    0.0  \n",
       "2  False  be9d33541d    0.0  \n",
       "3  False  be9d33541d    0.0  \n",
       "4  False  be9d33541d    0.0  "
      ]
     },
     "execution_count": 7,
     "metadata": {},
     "output_type": "execute_result"
    }
   ],
   "source": [
    "train_defog.head()"
   ]
  },
  {
   "cell_type": "code",
   "execution_count": 8,
   "id": "782cbe83",
   "metadata": {
    "execution": {
     "iopub.execute_input": "2023-04-20T23:53:50.478836Z",
     "iopub.status.busy": "2023-04-20T23:53:50.478378Z",
     "iopub.status.idle": "2023-04-20T23:53:50.994023Z",
     "shell.execute_reply": "2023-04-20T23:53:50.992341Z"
    },
    "papermill": {
     "duration": 0.526539,
     "end_time": "2023-04-20T23:53:50.997536",
     "exception": false,
     "start_time": "2023-04-20T23:53:50.470997",
     "status": "completed"
    },
    "tags": []
   },
   "outputs": [
    {
     "name": "stdout",
     "output_type": "stream",
     "text": [
      "(286370, 5)\n"
     ]
    }
   ],
   "source": [
    "train_tdcsfog = pd.concat([reader(f) for f in train_tdcsfog]).fillna(0); print(train_tdcsfog.shape)"
   ]
  },
  {
   "cell_type": "code",
   "execution_count": 9,
   "id": "e4e94faa",
   "metadata": {
    "execution": {
     "iopub.execute_input": "2023-04-20T23:53:51.012411Z",
     "iopub.status.busy": "2023-04-20T23:53:51.011946Z",
     "iopub.status.idle": "2023-04-20T23:53:51.033363Z",
     "shell.execute_reply": "2023-04-20T23:53:51.031863Z"
    },
    "papermill": {
     "duration": 0.03261,
     "end_time": "2023-04-20T23:53:51.036498",
     "exception": false,
     "start_time": "2023-04-20T23:53:51.003888",
     "status": "completed"
    },
    "tags": []
   },
   "outputs": [
    {
     "data": {
      "text/html": [
       "<div>\n",
       "<style scoped>\n",
       "    .dataframe tbody tr th:only-of-type {\n",
       "        vertical-align: middle;\n",
       "    }\n",
       "\n",
       "    .dataframe tbody tr th {\n",
       "        vertical-align: top;\n",
       "    }\n",
       "\n",
       "    .dataframe thead th {\n",
       "        text-align: right;\n",
       "    }\n",
       "</style>\n",
       "<table border=\"1\" class=\"dataframe\">\n",
       "  <thead>\n",
       "    <tr style=\"text-align: right;\">\n",
       "      <th></th>\n",
       "      <th>Time</th>\n",
       "      <th>AccV</th>\n",
       "      <th>AccML</th>\n",
       "      <th>AccAP</th>\n",
       "      <th>Id</th>\n",
       "    </tr>\n",
       "  </thead>\n",
       "  <tbody>\n",
       "    <tr>\n",
       "      <th>0</th>\n",
       "      <td>0</td>\n",
       "      <td>-0.914652</td>\n",
       "      <td>-0.300851</td>\n",
       "      <td>0.298156</td>\n",
       "      <td>02ab235146</td>\n",
       "    </tr>\n",
       "    <tr>\n",
       "      <th>1</th>\n",
       "      <td>1</td>\n",
       "      <td>-0.914367</td>\n",
       "      <td>-0.301572</td>\n",
       "      <td>0.298325</td>\n",
       "      <td>02ab235146</td>\n",
       "    </tr>\n",
       "    <tr>\n",
       "      <th>2</th>\n",
       "      <td>2</td>\n",
       "      <td>-0.779540</td>\n",
       "      <td>-0.343197</td>\n",
       "      <td>0.275690</td>\n",
       "      <td>02ab235146</td>\n",
       "    </tr>\n",
       "    <tr>\n",
       "      <th>3</th>\n",
       "      <td>3</td>\n",
       "      <td>-0.993162</td>\n",
       "      <td>-0.270281</td>\n",
       "      <td>0.315775</td>\n",
       "      <td>02ab235146</td>\n",
       "    </tr>\n",
       "    <tr>\n",
       "      <th>4</th>\n",
       "      <td>4</td>\n",
       "      <td>-0.948767</td>\n",
       "      <td>-0.307849</td>\n",
       "      <td>0.297191</td>\n",
       "      <td>02ab235146</td>\n",
       "    </tr>\n",
       "    <tr>\n",
       "      <th>...</th>\n",
       "      <td>...</td>\n",
       "      <td>...</td>\n",
       "      <td>...</td>\n",
       "      <td>...</td>\n",
       "      <td>...</td>\n",
       "    </tr>\n",
       "    <tr>\n",
       "      <th>4677</th>\n",
       "      <td>4677</td>\n",
       "      <td>-9.351431</td>\n",
       "      <td>0.370047</td>\n",
       "      <td>-2.286318</td>\n",
       "      <td>003f117e14</td>\n",
       "    </tr>\n",
       "    <tr>\n",
       "      <th>4678</th>\n",
       "      <td>4678</td>\n",
       "      <td>-9.341410</td>\n",
       "      <td>0.347721</td>\n",
       "      <td>-2.321991</td>\n",
       "      <td>003f117e14</td>\n",
       "    </tr>\n",
       "    <tr>\n",
       "      <th>4679</th>\n",
       "      <td>4679</td>\n",
       "      <td>-9.350667</td>\n",
       "      <td>0.361341</td>\n",
       "      <td>-2.297158</td>\n",
       "      <td>003f117e14</td>\n",
       "    </tr>\n",
       "    <tr>\n",
       "      <th>4680</th>\n",
       "      <td>4680</td>\n",
       "      <td>-9.343977</td>\n",
       "      <td>0.365726</td>\n",
       "      <td>-2.292650</td>\n",
       "      <td>003f117e14</td>\n",
       "    </tr>\n",
       "    <tr>\n",
       "      <th>4681</th>\n",
       "      <td>4681</td>\n",
       "      <td>-9.348477</td>\n",
       "      <td>0.379439</td>\n",
       "      <td>-2.335422</td>\n",
       "      <td>003f117e14</td>\n",
       "    </tr>\n",
       "  </tbody>\n",
       "</table>\n",
       "<p>286370 rows × 5 columns</p>\n",
       "</div>"
      ],
      "text/plain": [
       "      Time      AccV     AccML     AccAP          Id\n",
       "0        0 -0.914652 -0.300851  0.298156  02ab235146\n",
       "1        1 -0.914367 -0.301572  0.298325  02ab235146\n",
       "2        2 -0.779540 -0.343197  0.275690  02ab235146\n",
       "3        3 -0.993162 -0.270281  0.315775  02ab235146\n",
       "4        4 -0.948767 -0.307849  0.297191  02ab235146\n",
       "...    ...       ...       ...       ...         ...\n",
       "4677  4677 -9.351431  0.370047 -2.286318  003f117e14\n",
       "4678  4678 -9.341410  0.347721 -2.321991  003f117e14\n",
       "4679  4679 -9.350667  0.361341 -2.297158  003f117e14\n",
       "4680  4680 -9.343977  0.365726 -2.292650  003f117e14\n",
       "4681  4681 -9.348477  0.379439 -2.335422  003f117e14\n",
       "\n",
       "[286370 rows x 5 columns]"
      ]
     },
     "execution_count": 9,
     "metadata": {},
     "output_type": "execute_result"
    }
   ],
   "source": [
    "train_tdcsfog"
   ]
  },
  {
   "cell_type": "code",
   "execution_count": 10,
   "id": "a20c11b1",
   "metadata": {
    "execution": {
     "iopub.execute_input": "2023-04-20T23:53:51.052092Z",
     "iopub.status.busy": "2023-04-20T23:53:51.051635Z",
     "iopub.status.idle": "2023-04-20T23:53:55.644952Z",
     "shell.execute_reply": "2023-04-20T23:53:55.643874Z"
    },
    "papermill": {
     "duration": 4.60441,
     "end_time": "2023-04-20T23:53:55.647939",
     "exception": false,
     "start_time": "2023-04-20T23:53:51.043529",
     "status": "completed"
    },
    "tags": []
   },
   "outputs": [],
   "source": [
    "df_train=pd.concat([train_defog,train_tdcsfog])"
   ]
  },
  {
   "cell_type": "code",
   "execution_count": 11,
   "id": "18119aab",
   "metadata": {
    "execution": {
     "iopub.execute_input": "2023-04-20T23:53:55.666849Z",
     "iopub.status.busy": "2023-04-20T23:53:55.666404Z",
     "iopub.status.idle": "2023-04-20T23:54:16.779956Z",
     "shell.execute_reply": "2023-04-20T23:54:16.778550Z"
    },
    "papermill": {
     "duration": 21.124005,
     "end_time": "2023-04-20T23:54:16.782719",
     "exception": false,
     "start_time": "2023-04-20T23:53:55.658714",
     "status": "completed"
    },
    "tags": []
   },
   "outputs": [],
   "source": [
    "new_train = df_train.fillna(0)"
   ]
  },
  {
   "cell_type": "code",
   "execution_count": 12,
   "id": "107ab135",
   "metadata": {
    "execution": {
     "iopub.execute_input": "2023-04-20T23:54:16.797659Z",
     "iopub.status.busy": "2023-04-20T23:54:16.796876Z",
     "iopub.status.idle": "2023-04-20T23:54:16.821599Z",
     "shell.execute_reply": "2023-04-20T23:54:16.820315Z"
    },
    "papermill": {
     "duration": 0.035207,
     "end_time": "2023-04-20T23:54:16.824282",
     "exception": false,
     "start_time": "2023-04-20T23:54:16.789075",
     "status": "completed"
    },
    "tags": []
   },
   "outputs": [
    {
     "data": {
      "text/html": [
       "<div>\n",
       "<style scoped>\n",
       "    .dataframe tbody tr th:only-of-type {\n",
       "        vertical-align: middle;\n",
       "    }\n",
       "\n",
       "    .dataframe tbody tr th {\n",
       "        vertical-align: top;\n",
       "    }\n",
       "\n",
       "    .dataframe thead th {\n",
       "        text-align: right;\n",
       "    }\n",
       "</style>\n",
       "<table border=\"1\" class=\"dataframe\">\n",
       "  <thead>\n",
       "    <tr style=\"text-align: right;\">\n",
       "      <th></th>\n",
       "      <th>Time</th>\n",
       "      <th>AccV</th>\n",
       "      <th>AccML</th>\n",
       "      <th>AccAP</th>\n",
       "      <th>StartHesitation</th>\n",
       "      <th>Turn</th>\n",
       "      <th>Walking</th>\n",
       "      <th>Valid</th>\n",
       "      <th>Task</th>\n",
       "      <th>Id</th>\n",
       "      <th>Event</th>\n",
       "    </tr>\n",
       "  </thead>\n",
       "  <tbody>\n",
       "    <tr>\n",
       "      <th>0</th>\n",
       "      <td>0</td>\n",
       "      <td>-1.002697</td>\n",
       "      <td>0.022371</td>\n",
       "      <td>0.068304</td>\n",
       "      <td>0.0</td>\n",
       "      <td>0.0</td>\n",
       "      <td>0.0</td>\n",
       "      <td>False</td>\n",
       "      <td>False</td>\n",
       "      <td>be9d33541d</td>\n",
       "      <td>0.0</td>\n",
       "    </tr>\n",
       "    <tr>\n",
       "      <th>1</th>\n",
       "      <td>1</td>\n",
       "      <td>-1.002641</td>\n",
       "      <td>0.019173</td>\n",
       "      <td>0.066162</td>\n",
       "      <td>0.0</td>\n",
       "      <td>0.0</td>\n",
       "      <td>0.0</td>\n",
       "      <td>False</td>\n",
       "      <td>False</td>\n",
       "      <td>be9d33541d</td>\n",
       "      <td>0.0</td>\n",
       "    </tr>\n",
       "    <tr>\n",
       "      <th>2</th>\n",
       "      <td>2</td>\n",
       "      <td>-0.999820</td>\n",
       "      <td>0.019142</td>\n",
       "      <td>0.067536</td>\n",
       "      <td>0.0</td>\n",
       "      <td>0.0</td>\n",
       "      <td>0.0</td>\n",
       "      <td>False</td>\n",
       "      <td>False</td>\n",
       "      <td>be9d33541d</td>\n",
       "      <td>0.0</td>\n",
       "    </tr>\n",
       "    <tr>\n",
       "      <th>3</th>\n",
       "      <td>3</td>\n",
       "      <td>-0.998023</td>\n",
       "      <td>0.018378</td>\n",
       "      <td>0.068409</td>\n",
       "      <td>0.0</td>\n",
       "      <td>0.0</td>\n",
       "      <td>0.0</td>\n",
       "      <td>False</td>\n",
       "      <td>False</td>\n",
       "      <td>be9d33541d</td>\n",
       "      <td>0.0</td>\n",
       "    </tr>\n",
       "    <tr>\n",
       "      <th>4</th>\n",
       "      <td>4</td>\n",
       "      <td>-0.998359</td>\n",
       "      <td>0.016726</td>\n",
       "      <td>0.066448</td>\n",
       "      <td>0.0</td>\n",
       "      <td>0.0</td>\n",
       "      <td>0.0</td>\n",
       "      <td>False</td>\n",
       "      <td>False</td>\n",
       "      <td>be9d33541d</td>\n",
       "      <td>0.0</td>\n",
       "    </tr>\n",
       "    <tr>\n",
       "      <th>...</th>\n",
       "      <td>...</td>\n",
       "      <td>...</td>\n",
       "      <td>...</td>\n",
       "      <td>...</td>\n",
       "      <td>...</td>\n",
       "      <td>...</td>\n",
       "      <td>...</td>\n",
       "      <td>...</td>\n",
       "      <td>...</td>\n",
       "      <td>...</td>\n",
       "      <td>...</td>\n",
       "    </tr>\n",
       "    <tr>\n",
       "      <th>4677</th>\n",
       "      <td>4677</td>\n",
       "      <td>-9.351431</td>\n",
       "      <td>0.370047</td>\n",
       "      <td>-2.286318</td>\n",
       "      <td>0.0</td>\n",
       "      <td>0.0</td>\n",
       "      <td>0.0</td>\n",
       "      <td>0</td>\n",
       "      <td>0</td>\n",
       "      <td>003f117e14</td>\n",
       "      <td>0.0</td>\n",
       "    </tr>\n",
       "    <tr>\n",
       "      <th>4678</th>\n",
       "      <td>4678</td>\n",
       "      <td>-9.341410</td>\n",
       "      <td>0.347721</td>\n",
       "      <td>-2.321991</td>\n",
       "      <td>0.0</td>\n",
       "      <td>0.0</td>\n",
       "      <td>0.0</td>\n",
       "      <td>0</td>\n",
       "      <td>0</td>\n",
       "      <td>003f117e14</td>\n",
       "      <td>0.0</td>\n",
       "    </tr>\n",
       "    <tr>\n",
       "      <th>4679</th>\n",
       "      <td>4679</td>\n",
       "      <td>-9.350667</td>\n",
       "      <td>0.361341</td>\n",
       "      <td>-2.297158</td>\n",
       "      <td>0.0</td>\n",
       "      <td>0.0</td>\n",
       "      <td>0.0</td>\n",
       "      <td>0</td>\n",
       "      <td>0</td>\n",
       "      <td>003f117e14</td>\n",
       "      <td>0.0</td>\n",
       "    </tr>\n",
       "    <tr>\n",
       "      <th>4680</th>\n",
       "      <td>4680</td>\n",
       "      <td>-9.343977</td>\n",
       "      <td>0.365726</td>\n",
       "      <td>-2.292650</td>\n",
       "      <td>0.0</td>\n",
       "      <td>0.0</td>\n",
       "      <td>0.0</td>\n",
       "      <td>0</td>\n",
       "      <td>0</td>\n",
       "      <td>003f117e14</td>\n",
       "      <td>0.0</td>\n",
       "    </tr>\n",
       "    <tr>\n",
       "      <th>4681</th>\n",
       "      <td>4681</td>\n",
       "      <td>-9.348477</td>\n",
       "      <td>0.379439</td>\n",
       "      <td>-2.335422</td>\n",
       "      <td>0.0</td>\n",
       "      <td>0.0</td>\n",
       "      <td>0.0</td>\n",
       "      <td>0</td>\n",
       "      <td>0</td>\n",
       "      <td>003f117e14</td>\n",
       "      <td>0.0</td>\n",
       "    </tr>\n",
       "  </tbody>\n",
       "</table>\n",
       "<p>31125858 rows × 11 columns</p>\n",
       "</div>"
      ],
      "text/plain": [
       "      Time      AccV     AccML     AccAP  StartHesitation  Turn  Walking  \\\n",
       "0        0 -1.002697  0.022371  0.068304              0.0   0.0      0.0   \n",
       "1        1 -1.002641  0.019173  0.066162              0.0   0.0      0.0   \n",
       "2        2 -0.999820  0.019142  0.067536              0.0   0.0      0.0   \n",
       "3        3 -0.998023  0.018378  0.068409              0.0   0.0      0.0   \n",
       "4        4 -0.998359  0.016726  0.066448              0.0   0.0      0.0   \n",
       "...    ...       ...       ...       ...              ...   ...      ...   \n",
       "4677  4677 -9.351431  0.370047 -2.286318              0.0   0.0      0.0   \n",
       "4678  4678 -9.341410  0.347721 -2.321991              0.0   0.0      0.0   \n",
       "4679  4679 -9.350667  0.361341 -2.297158              0.0   0.0      0.0   \n",
       "4680  4680 -9.343977  0.365726 -2.292650              0.0   0.0      0.0   \n",
       "4681  4681 -9.348477  0.379439 -2.335422              0.0   0.0      0.0   \n",
       "\n",
       "      Valid   Task          Id  Event  \n",
       "0     False  False  be9d33541d    0.0  \n",
       "1     False  False  be9d33541d    0.0  \n",
       "2     False  False  be9d33541d    0.0  \n",
       "3     False  False  be9d33541d    0.0  \n",
       "4     False  False  be9d33541d    0.0  \n",
       "...     ...    ...         ...    ...  \n",
       "4677      0      0  003f117e14    0.0  \n",
       "4678      0      0  003f117e14    0.0  \n",
       "4679      0      0  003f117e14    0.0  \n",
       "4680      0      0  003f117e14    0.0  \n",
       "4681      0      0  003f117e14    0.0  \n",
       "\n",
       "[31125858 rows x 11 columns]"
      ]
     },
     "execution_count": 12,
     "metadata": {},
     "output_type": "execute_result"
    }
   ],
   "source": [
    "new_train"
   ]
  },
  {
   "cell_type": "code",
   "execution_count": 13,
   "id": "0d4dfb55",
   "metadata": {
    "execution": {
     "iopub.execute_input": "2023-04-20T23:54:16.838895Z",
     "iopub.status.busy": "2023-04-20T23:54:16.838437Z",
     "iopub.status.idle": "2023-04-20T23:54:16.842854Z",
     "shell.execute_reply": "2023-04-20T23:54:16.842005Z"
    },
    "papermill": {
     "duration": 0.014135,
     "end_time": "2023-04-20T23:54:16.844914",
     "exception": false,
     "start_time": "2023-04-20T23:54:16.830779",
     "status": "completed"
    },
    "tags": []
   },
   "outputs": [],
   "source": [
    "# X = new_train.iloc[:, 1:-1].values\n",
    "# y = new_train.iloc[:, -1].values\n",
    "\n",
    "# X_train, X_test, y_train, y_test = train_test_split(X, y, test_size=0.2, random_state=0)"
   ]
  },
  {
   "cell_type": "code",
   "execution_count": 14,
   "id": "b0ef87f0",
   "metadata": {
    "execution": {
     "iopub.execute_input": "2023-04-20T23:54:16.860145Z",
     "iopub.status.busy": "2023-04-20T23:54:16.859686Z",
     "iopub.status.idle": "2023-04-20T23:54:16.864607Z",
     "shell.execute_reply": "2023-04-20T23:54:16.863426Z"
    },
    "papermill": {
     "duration": 0.015729,
     "end_time": "2023-04-20T23:54:16.867036",
     "exception": false,
     "start_time": "2023-04-20T23:54:16.851307",
     "status": "completed"
    },
    "tags": []
   },
   "outputs": [],
   "source": [
    "#sc = StandardScaler()\n",
    "# X_train = sc.fit_transform(X_train)\n",
    "# X_test = sc.transform(X_test)"
   ]
  },
  {
   "cell_type": "code",
   "execution_count": 15,
   "id": "7bd8abf4",
   "metadata": {
    "execution": {
     "iopub.execute_input": "2023-04-20T23:54:16.881720Z",
     "iopub.status.busy": "2023-04-20T23:54:16.881303Z",
     "iopub.status.idle": "2023-04-20T23:54:16.886469Z",
     "shell.execute_reply": "2023-04-20T23:54:16.885285Z"
    },
    "papermill": {
     "duration": 0.015221,
     "end_time": "2023-04-20T23:54:16.888699",
     "exception": false,
     "start_time": "2023-04-20T23:54:16.873478",
     "status": "completed"
    },
    "tags": []
   },
   "outputs": [],
   "source": [
    "# class Net(nn.Module):\n",
    "#     def __init__(self, input_size, hidden_size, num_classes):\n",
    "#         super(Net, self).__init__()\n",
    "#         self.fc1 = nn.Linear(input_size, hidden_size) \n",
    "#         self.relu = nn.ReLU()\n",
    "#         self.fc2 = nn.Linear(hidden_size, num_classes)  \n",
    "    \n",
    "#     def forward(self, x):\n",
    "#         out = self.fc1(x)\n",
    "#         out = self.relu(out)\n",
    "#         out = self.fc2(out)\n",
    "#         return out"
   ]
  },
  {
   "cell_type": "code",
   "execution_count": 16,
   "id": "40434c80",
   "metadata": {
    "execution": {
     "iopub.execute_input": "2023-04-20T23:54:16.903320Z",
     "iopub.status.busy": "2023-04-20T23:54:16.902892Z",
     "iopub.status.idle": "2023-04-20T23:54:16.908170Z",
     "shell.execute_reply": "2023-04-20T23:54:16.906992Z"
    },
    "papermill": {
     "duration": 0.015374,
     "end_time": "2023-04-20T23:54:16.910391",
     "exception": false,
     "start_time": "2023-04-20T23:54:16.895017",
     "status": "completed"
    },
    "tags": []
   },
   "outputs": [],
   "source": [
    "# input_size = X_train.shape[1]\n",
    "# hidden_size = 10\n",
    "# num_classes = 2\n",
    "# net = Net(input_size, hidden_size, num_classes)\n",
    "\n",
    "# criterion = nn.CrossEntropyLoss()\n",
    "# optimizer = torch.optim.Adam(net.parameters(), lr=0.001)\n",
    "\n",
    "# num_epochs = 100\n",
    "# for epoch in range(num_epochs):\n",
    "#     inputs = torch.from_numpy(X_train).float()\n",
    "#     targets = torch.from_numpy(y_train).long()\n",
    "\n",
    "#     optimizer.zero_grad()\n",
    "#     outputs = net(inputs)\n",
    "#     loss = criterion(outputs, targets)\n",
    "#     loss.backward()\n",
    "#     optimizer.step()\n",
    "\n",
    "#     if (epoch+1) % 10 == 0:\n",
    "#         print('Epoch [{}/{}], Loss: {:.4f}'.format(epoch+1, num_epochs, loss.item()))"
   ]
  },
  {
   "cell_type": "code",
   "execution_count": 17,
   "id": "871dd45a",
   "metadata": {
    "execution": {
     "iopub.execute_input": "2023-04-20T23:54:16.925242Z",
     "iopub.status.busy": "2023-04-20T23:54:16.924798Z",
     "iopub.status.idle": "2023-04-20T23:54:16.929995Z",
     "shell.execute_reply": "2023-04-20T23:54:16.928702Z"
    },
    "papermill": {
     "duration": 0.015638,
     "end_time": "2023-04-20T23:54:16.932334",
     "exception": false,
     "start_time": "2023-04-20T23:54:16.916696",
     "status": "completed"
    },
    "tags": []
   },
   "outputs": [],
   "source": [
    "# inputs = torch.from_numpy(X_test).float()\n",
    "# outputs = net(inputs)\n",
    "# _, predicted = torch.max(outputs.data, 1)\n",
    "\n",
    "# print('Accuracy:', accuracy_score(y_test, predicted))"
   ]
  },
  {
   "cell_type": "code",
   "execution_count": 18,
   "id": "beb166d9",
   "metadata": {
    "execution": {
     "iopub.execute_input": "2023-04-20T23:54:16.947062Z",
     "iopub.status.busy": "2023-04-20T23:54:16.946618Z",
     "iopub.status.idle": "2023-04-20T23:54:17.541577Z",
     "shell.execute_reply": "2023-04-20T23:54:17.540499Z"
    },
    "papermill": {
     "duration": 0.605533,
     "end_time": "2023-04-20T23:54:17.544324",
     "exception": false,
     "start_time": "2023-04-20T23:54:16.938791",
     "status": "completed"
    },
    "tags": []
   },
   "outputs": [],
   "source": [
    "cols = ['Id','StartHesitation','Turn','Walking']\n",
    "test = df_train[cols]"
   ]
  },
  {
   "cell_type": "code",
   "execution_count": 19,
   "id": "ff81a0c2",
   "metadata": {
    "execution": {
     "iopub.execute_input": "2023-04-20T23:54:17.559048Z",
     "iopub.status.busy": "2023-04-20T23:54:17.558606Z",
     "iopub.status.idle": "2023-04-20T23:54:22.440260Z",
     "shell.execute_reply": "2023-04-20T23:54:22.438986Z"
    },
    "papermill": {
     "duration": 4.892587,
     "end_time": "2023-04-20T23:54:22.443381",
     "exception": false,
     "start_time": "2023-04-20T23:54:17.550794",
     "status": "completed"
    },
    "tags": []
   },
   "outputs": [],
   "source": [
    "sub = pd.read_csv(path+'sample_submission.csv')\n",
    "submission = pd.merge(sub[['Id']], test, how='left', on='Id').fillna(0.0)\n",
    "submission[['Id','StartHesitation', 'Turn' , 'Walking']].to_csv('submission.csv', index=False)"
   ]
  },
  {
   "cell_type": "code",
   "execution_count": 20,
   "id": "90668bf8",
   "metadata": {
    "execution": {
     "iopub.execute_input": "2023-04-20T23:54:22.458395Z",
     "iopub.status.busy": "2023-04-20T23:54:22.457995Z",
     "iopub.status.idle": "2023-04-20T23:54:22.474501Z",
     "shell.execute_reply": "2023-04-20T23:54:22.473279Z"
    },
    "papermill": {
     "duration": 0.027051,
     "end_time": "2023-04-20T23:54:22.476932",
     "exception": false,
     "start_time": "2023-04-20T23:54:22.449881",
     "status": "completed"
    },
    "tags": []
   },
   "outputs": [
    {
     "data": {
      "text/html": [
       "<div>\n",
       "<style scoped>\n",
       "    .dataframe tbody tr th:only-of-type {\n",
       "        vertical-align: middle;\n",
       "    }\n",
       "\n",
       "    .dataframe tbody tr th {\n",
       "        vertical-align: top;\n",
       "    }\n",
       "\n",
       "    .dataframe thead th {\n",
       "        text-align: right;\n",
       "    }\n",
       "</style>\n",
       "<table border=\"1\" class=\"dataframe\">\n",
       "  <thead>\n",
       "    <tr style=\"text-align: right;\">\n",
       "      <th></th>\n",
       "      <th>Id</th>\n",
       "      <th>StartHesitation</th>\n",
       "      <th>Turn</th>\n",
       "      <th>Walking</th>\n",
       "    </tr>\n",
       "  </thead>\n",
       "  <tbody>\n",
       "    <tr>\n",
       "      <th>0</th>\n",
       "      <td>003f117e14_0</td>\n",
       "      <td>0.0</td>\n",
       "      <td>0.0</td>\n",
       "      <td>0.0</td>\n",
       "    </tr>\n",
       "    <tr>\n",
       "      <th>1</th>\n",
       "      <td>003f117e14_1</td>\n",
       "      <td>0.0</td>\n",
       "      <td>0.0</td>\n",
       "      <td>0.0</td>\n",
       "    </tr>\n",
       "    <tr>\n",
       "      <th>2</th>\n",
       "      <td>003f117e14_2</td>\n",
       "      <td>0.0</td>\n",
       "      <td>0.0</td>\n",
       "      <td>0.0</td>\n",
       "    </tr>\n",
       "    <tr>\n",
       "      <th>3</th>\n",
       "      <td>003f117e14_3</td>\n",
       "      <td>0.0</td>\n",
       "      <td>0.0</td>\n",
       "      <td>0.0</td>\n",
       "    </tr>\n",
       "    <tr>\n",
       "      <th>4</th>\n",
       "      <td>003f117e14_4</td>\n",
       "      <td>0.0</td>\n",
       "      <td>0.0</td>\n",
       "      <td>0.0</td>\n",
       "    </tr>\n",
       "    <tr>\n",
       "      <th>...</th>\n",
       "      <td>...</td>\n",
       "      <td>...</td>\n",
       "      <td>...</td>\n",
       "      <td>...</td>\n",
       "    </tr>\n",
       "    <tr>\n",
       "      <th>286365</th>\n",
       "      <td>02ab235146_281683</td>\n",
       "      <td>0.0</td>\n",
       "      <td>0.0</td>\n",
       "      <td>0.0</td>\n",
       "    </tr>\n",
       "    <tr>\n",
       "      <th>286366</th>\n",
       "      <td>02ab235146_281684</td>\n",
       "      <td>0.0</td>\n",
       "      <td>0.0</td>\n",
       "      <td>0.0</td>\n",
       "    </tr>\n",
       "    <tr>\n",
       "      <th>286367</th>\n",
       "      <td>02ab235146_281685</td>\n",
       "      <td>0.0</td>\n",
       "      <td>0.0</td>\n",
       "      <td>0.0</td>\n",
       "    </tr>\n",
       "    <tr>\n",
       "      <th>286368</th>\n",
       "      <td>02ab235146_281686</td>\n",
       "      <td>0.0</td>\n",
       "      <td>0.0</td>\n",
       "      <td>0.0</td>\n",
       "    </tr>\n",
       "    <tr>\n",
       "      <th>286369</th>\n",
       "      <td>02ab235146_281687</td>\n",
       "      <td>0.0</td>\n",
       "      <td>0.0</td>\n",
       "      <td>0.0</td>\n",
       "    </tr>\n",
       "  </tbody>\n",
       "</table>\n",
       "<p>286370 rows × 4 columns</p>\n",
       "</div>"
      ],
      "text/plain": [
       "                       Id  StartHesitation  Turn  Walking\n",
       "0            003f117e14_0              0.0   0.0      0.0\n",
       "1            003f117e14_1              0.0   0.0      0.0\n",
       "2            003f117e14_2              0.0   0.0      0.0\n",
       "3            003f117e14_3              0.0   0.0      0.0\n",
       "4            003f117e14_4              0.0   0.0      0.0\n",
       "...                   ...              ...   ...      ...\n",
       "286365  02ab235146_281683              0.0   0.0      0.0\n",
       "286366  02ab235146_281684              0.0   0.0      0.0\n",
       "286367  02ab235146_281685              0.0   0.0      0.0\n",
       "286368  02ab235146_281686              0.0   0.0      0.0\n",
       "286369  02ab235146_281687              0.0   0.0      0.0\n",
       "\n",
       "[286370 rows x 4 columns]"
      ]
     },
     "execution_count": 20,
     "metadata": {},
     "output_type": "execute_result"
    }
   ],
   "source": [
    "submission"
   ]
  }
 ],
 "metadata": {
  "kernelspec": {
   "display_name": "Python 3",
   "language": "python",
   "name": "python3"
  },
  "language_info": {
   "codemirror_mode": {
    "name": "ipython",
    "version": 3
   },
   "file_extension": ".py",
   "mimetype": "text/x-python",
   "name": "python",
   "nbconvert_exporter": "python",
   "pygments_lexer": "ipython3",
   "version": "3.7.12"
  },
  "papermill": {
   "default_parameters": {},
   "duration": 146.295789,
   "end_time": "2023-04-20T23:54:25.206312",
   "environment_variables": {},
   "exception": null,
   "input_path": "__notebook__.ipynb",
   "output_path": "__notebook__.ipynb",
   "parameters": {},
   "start_time": "2023-04-20T23:51:58.910523",
   "version": "2.4.0"
  }
 },
 "nbformat": 4,
 "nbformat_minor": 5
}
